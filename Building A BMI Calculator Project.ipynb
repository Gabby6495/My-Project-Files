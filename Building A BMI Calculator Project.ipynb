{
 "cells": [
  {
   "cell_type": "markdown",
   "id": "cc398bf3-49eb-4642-84e3-fc842b48cfbc",
   "metadata": {},
   "source": [
    "BMI Calculator"
   ]
  },
  {
   "cell_type": "code",
   "execution_count": 75,
   "id": "a40b2270-a7e5-4f9a-88b5-45a282cec201",
   "metadata": {},
   "outputs": [
    {
     "name": "stdin",
     "output_type": "stream",
     "text": [
      "Enter you name:  Gabby\n",
      "Enter your weight in pounds:  129\n",
      "Enter your height in inches:  59\n"
     ]
    },
    {
     "name": "stdout",
     "output_type": "stream",
     "text": [
      "26.051996552714737\n",
      "Gabby, You are overweight.\n"
     ]
    }
   ],
   "source": [
    "name = input(\"Enter you name: \")\n",
    "\n",
    "weight = int(input(\"Enter your weight in pounds: \"))\n",
    "\n",
    "height = int(input(\"Enter your height in inches: \"))\n",
    "\n",
    "BMI = (weight * 703) / (height * height)\n",
    "\n",
    "print(BMI)\n",
    "\n",
    "if BMI>0:\n",
    "    if(BMI<18.5):\n",
    "        print(name +\", You are underweight.\")\n",
    "    elif(BMI<24.9):\n",
    "        print(name +\", You are normal weight.\")\n",
    "    elif(BMI<29.9):\n",
    "        print(name +\", You are overweight.\")\n",
    "    elif(BMI<34.9):\n",
    "        print(name +\", You are obese.\")\n",
    "    elif(BMI<39.9):\n",
    "        print(name +\", You are severely obese.\")\n",
    "    else:\n",
    "        print(\"You are morbidly obese\")\n",
    "else:\n",
    "    print(\"Enter valid input\")"
   ]
  },
  {
   "cell_type": "code",
   "execution_count": null,
   "id": "4e2c587b-40d3-4b18-a2aa-ac1fb1d73e8f",
   "metadata": {},
   "outputs": [],
   "source": []
  },
  {
   "cell_type": "code",
   "execution_count": null,
   "id": "5d3b30c9-d468-44ad-88f9-265133479f92",
   "metadata": {},
   "outputs": [],
   "source": []
  },
  {
   "cell_type": "code",
   "execution_count": null,
   "id": "ececb7a0-20e8-42ad-91ad-fd4a8c358667",
   "metadata": {},
   "outputs": [],
   "source": []
  },
  {
   "cell_type": "code",
   "execution_count": null,
   "id": "b022e598-1514-478a-ac3e-a8c14657a9c8",
   "metadata": {},
   "outputs": [],
   "source": [
    "#BMI = (weight in pounds x 703 / (height in inches x height in inches)"
   ]
  },
  {
   "cell_type": "code",
   "execution_count": null,
   "id": "798c7d75-4377-4d5a-8575-3e8936b4d8bf",
   "metadata": {},
   "outputs": [],
   "source": [
    "print(weight)"
   ]
  },
  {
   "cell_type": "code",
   "execution_count": null,
   "id": "ab12035a-1dfb-43a1-b142-bf107e05c63c",
   "metadata": {},
   "outputs": [],
   "source": [
    "Under 18.5-*Underweight*Minimal\n",
    "18.5 - 24.9*Normal Weight---*Minimal\n",
    "25 - 29.9--*Overweight--*Increased\n",
    "30 - 34.9--*Obese---*High\n",
    "35 - 39.9--*Severely Obese--*Very High\n",
    "40 and over*Morbidly Obese--*Extremely High"
   ]
  },
  {
   "cell_type": "code",
   "execution_count": 77,
   "id": "861159d0-3a49-4ced-ada9-1e7c855d7303",
   "metadata": {},
   "outputs": [
    {
     "name": "stdout",
     "output_type": "stream",
     "text": [
      "Gabby, You are overweight.\n"
     ]
    }
   ],
   "source": [
    "if BMI>0:\n",
    "    if(BMI<18.5):\n",
    "        print(name +\", You are underweight.\")\n",
    "    elif(BMI<24.9):\n",
    "        print(name +\", You are normal weight.\")\n",
    "    elif(BMI<29.9):\n",
    "        print(name +\", You are overweight.\")\n",
    "    elif(BMI<34.9):\n",
    "        print(name +\", You are obese.\")\n",
    "    elif(BMI<39.9):\n",
    "        print(name +\", You are severely obese.\")\n",
    "    else:\n",
    "        print(\"You are morbidly obese\")\n",
    "else:\n",
    "    print(\"Enter valid input\")"
   ]
  },
  {
   "cell_type": "code",
   "execution_count": null,
   "id": "009a703c-1ba8-482a-9a6a-d99fd3d04fb8",
   "metadata": {},
   "outputs": [],
   "source": []
  },
  {
   "cell_type": "code",
   "execution_count": null,
   "id": "3977c6c2-aeab-403a-85ec-e38c2701f2e7",
   "metadata": {},
   "outputs": [],
   "source": []
  },
  {
   "cell_type": "code",
   "execution_count": null,
   "id": "d26df88a-f515-4689-97c2-14f5e05f0890",
   "metadata": {},
   "outputs": [],
   "source": []
  },
  {
   "cell_type": "code",
   "execution_count": null,
   "id": "bb0e6555-e681-4236-abce-0a5ea209d1e7",
   "metadata": {},
   "outputs": [],
   "source": []
  },
  {
   "cell_type": "code",
   "execution_count": null,
   "id": "07140849-a8a3-4c14-a031-64753c616107",
   "metadata": {},
   "outputs": [],
   "source": []
  },
  {
   "cell_type": "code",
   "execution_count": null,
   "id": "7d4de130-d540-4731-abda-4e2c3c370665",
   "metadata": {},
   "outputs": [],
   "source": []
  },
  {
   "cell_type": "code",
   "execution_count": null,
   "id": "d19c7fa7-7a57-443d-9405-fdaca53568b5",
   "metadata": {},
   "outputs": [],
   "source": []
  }
 ],
 "metadata": {
  "kernelspec": {
   "display_name": "Python 3 (ipykernel)",
   "language": "python",
   "name": "python3"
  },
  "language_info": {
   "codemirror_mode": {
    "name": "ipython",
    "version": 3
   },
   "file_extension": ".py",
   "mimetype": "text/x-python",
   "name": "python",
   "nbconvert_exporter": "python",
   "pygments_lexer": "ipython3",
   "version": "3.12.4"
  }
 },
 "nbformat": 4,
 "nbformat_minor": 5
}
